{
  "nbformat": 4,
  "nbformat_minor": 0,
  "metadata": {
    "colab": {
      "name": "Assignment2.ipynb",
      "provenance": [],
      "collapsed_sections": []
    },
    "kernelspec": {
      "name": "python3",
      "display_name": "Python 3"
    }
  },
  "cells": [
    {
      "cell_type": "markdown",
      "metadata": {
        "id": "FQIJ1dEgNBai",
        "colab_type": "text"
      },
      "source": [
        "1. Area of Triangle :\n",
        "Given the lengths of three sides of a triangle, calculate the area of the triangle."
      ]
    },
    {
      "cell_type": "code",
      "metadata": {
        "id": "4wxk9I_2KAYT",
        "colab_type": "code",
        "colab": {
          "base_uri": "https://localhost:8080/",
          "height": 84
        },
        "outputId": "068dc419-32d6-45d1-a5f4-eecb50e9e44f"
      },
      "source": [
        "a=int(input(\"Enter length of 1st side: \"))\n",
        "b=int(input(\"Enter length of 2nd side: \"))\n",
        "c=int(input(\"Enter length of 3rd side: \"))\n",
        "if(a+b>c):\n",
        "  s=(a+b+c)/2\n",
        "  area=(s*(s-a)*(s-b)*(s-c))**(1/2)\n",
        "  print(\"Area of the triangle is\",round(area,3))\n",
        "else:\n",
        "  print(\"Triangle cannot be formed with given length\")"
      ],
      "execution_count": null,
      "outputs": [
        {
          "output_type": "stream",
          "text": [
            "Enter length of 1st side: 10\n",
            "Enter length of 2nd side: 20\n",
            "Enter length of 3rd side: 25\n",
            "Area of the triangle is 94.992\n"
          ],
          "name": "stdout"
        }
      ]
    },
    {
      "cell_type": "markdown",
      "metadata": {
        "id": "GkDE8gPPM1iV",
        "colab_type": "text"
      },
      "source": [
        "2.\tTake a string from end user and check if the value is palindrome or not"
      ]
    },
    {
      "cell_type": "code",
      "metadata": {
        "id": "CNqXDsSjOy4_",
        "colab_type": "code",
        "colab": {
          "base_uri": "https://localhost:8080/",
          "height": 50
        },
        "outputId": "5d9d796b-e580-4f3a-91de-445a8169fe5b"
      },
      "source": [
        "string=input(\"Enter a string:\")\n",
        "if(string==string[::-1]):\n",
        "    print(\"Given string is palindrome\")\n",
        "else:\n",
        "    print(\"Given string is not palindrome\")"
      ],
      "execution_count": null,
      "outputs": [
        {
          "output_type": "stream",
          "text": [
            "Enter a string:malayalam\n",
            "Given string is palindrome\n"
          ],
          "name": "stdout"
        }
      ]
    },
    {
      "cell_type": "markdown",
      "metadata": {
        "id": "y5B_rAH-PPRF",
        "colab_type": "text"
      },
      "source": [
        "3.\tWrite a program that reads a year from the user and displays a message \n",
        "Indicating whether or not it is a leap year.\n"
      ]
    },
    {
      "cell_type": "code",
      "metadata": {
        "id": "C_iP4oKrPTcp",
        "colab_type": "code",
        "colab": {
          "base_uri": "https://localhost:8080/",
          "height": 50
        },
        "outputId": "0461ff2a-de5d-43aa-88dd-4853c55b9eb9"
      },
      "source": [
        "year=int(input(\"Enter the year: \"))\n",
        "if(year%400==0):\n",
        "  print(\"Leap Year\")\n",
        "elif (year%4==0) and (year%100!=0):\n",
        "  print(\"Leap Year\")\n",
        "elif(year%100==0):\n",
        "  print(\"Not a leap year\")\n",
        "else:\n",
        "  print(\"Not a Leap year\")"
      ],
      "execution_count": null,
      "outputs": [
        {
          "output_type": "stream",
          "text": [
            "Enter the year: 1700\n",
            "Not a leap year\n"
          ],
          "name": "stdout"
        }
      ]
    },
    {
      "cell_type": "markdown",
      "metadata": {
        "id": "6tHp9BmZP35g",
        "colab_type": "text"
      },
      "source": [
        "4.\t Space To Hyphen problem \n",
        "Take a string as input, and replaces spaces “ “  with hyphens “-”, and returns a string.\n",
        "\n",
        "Input: “ This program converts spaces into hyphen”\n",
        "      Output:     “ This-program-converts-spaces-into-hyphen”\n"
      ]
    },
    {
      "cell_type": "code",
      "metadata": {
        "id": "PnKYlk8GQEZ0",
        "colab_type": "code",
        "colab": {
          "base_uri": "https://localhost:8080/",
          "height": 50
        },
        "outputId": "37ca6ef8-845d-48c5-eef1-6a175280c771"
      },
      "source": [
        "string=input(\"Enter a string: \")\n",
        "x=string.replace(\" \",\"-\")\n",
        "print(\"String After conversion:\",x)"
      ],
      "execution_count": null,
      "outputs": [
        {
          "output_type": "stream",
          "text": [
            "Enter a string: This program converts spaces into hyphen\n",
            "String After conversion: This-program-converts-spaces-into-hyphen\n"
          ],
          "name": "stdout"
        }
      ]
    },
    {
      "cell_type": "markdown",
      "metadata": {
        "id": "DGBBZUS3Q9bW",
        "colab_type": "text"
      },
      "source": [
        "5.\tUnique Sort problem \n",
        "Take a string as input that accepts a comma separated sequence of words as input and prints the unique words in sorted form (alphanumerically).\n",
        "*Input*: orange, white, red, cyan, green, magenta, cyan, pink, white\n",
        "\n",
        "*Output*: cyan, green, magenta, orange, pink, red, white\n",
        "\n"
      ]
    },
    {
      "cell_type": "code",
      "metadata": {
        "id": "LqqNeghdRBxm",
        "colab_type": "code",
        "colab": {
          "base_uri": "https://localhost:8080/",
          "height": 50
        },
        "outputId": "891ce76f-5c36-442f-dea5-b2b5bf185bbd"
      },
      "source": [
        "string=input(\"Enter a string \")\n",
        "x=string.split()\n",
        "x.sort()\n",
        "list(x)\n",
        "set(x)\n"
      ],
      "execution_count": null,
      "outputs": [
        {
          "output_type": "stream",
          "text": [
            "Enter a string orange white red cyan green magenta cyan pink white\n"
          ],
          "name": "stdout"
        },
        {
          "output_type": "execute_result",
          "data": {
            "text/plain": [
              "{'cyan', 'green', 'magenta', 'orange', 'pink', 'red', 'white'}"
            ]
          },
          "metadata": {
            "tags": []
          },
          "execution_count": 10
        }
      ]
    },
    {
      "cell_type": "markdown",
      "metadata": {
        "id": "COzsg0uOh1EF",
        "colab_type": "text"
      },
      "source": [
        "6.\tTax Calculator\n",
        "Ask the user for their monthly salary. Calculate whether they have to pay tax and if so, how much is that amount .Print the result\n"
      ]
    },
    {
      "cell_type": "code",
      "metadata": {
        "id": "M4-tDHHwiAO7",
        "colab_type": "code",
        "colab": {
          "base_uri": "https://localhost:8080/",
          "height": 50
        },
        "outputId": "908b3e1d-c858-4a14-8acd-4ba197496d7b"
      },
      "source": [
        "salary=int(input(\"Enter salary : \"))\n",
        "if (salary>=0) and (salary<=250000):\n",
        "  tax=\"No tax\"\n",
        "elif (salary>250000) and (salary<=500000):\n",
        "    tax=(salary*0.05)\n",
        "elif (salary>500000) and (salary<=750000):\n",
        "    tax=(salary*0.1)\n",
        "elif (salary>750000) and (salary<=1000000):\n",
        "    tax=(salary*0.15)\n",
        "elif (salary>1000000) and (salary<=1250000):\n",
        "    tax=(salary*0.2)\n",
        "elif (sal>1250000) and (sal<=1500000):\n",
        "    tax=(salary*0.25)\n",
        "else:\n",
        "    tax=(salary*0.3)\n",
        "print(\"Tax is : \",tax)"
      ],
      "execution_count": 13,
      "outputs": [
        {
          "output_type": "stream",
          "text": [
            "Enter salary : 500000\n",
            "Tax is :  25000.0\n"
          ],
          "name": "stdout"
        }
      ]
    },
    {
      "cell_type": "markdown",
      "metadata": {
        "id": "oqy1dbu8iBBC",
        "colab_type": "text"
      },
      "source": [
        "7.\tTake a list of integers as an argument, and converts it into a single integer (return the integer).\n",
        "*Input*: [11, 33, 50]\n",
        "*Output*: 113350\n"
      ]
    },
    {
      "cell_type": "code",
      "metadata": {
        "id": "XteiN7RSibfc",
        "colab_type": "code",
        "colab": {
          "base_uri": "https://localhost:8080/",
          "height": 34
        },
        "outputId": "aa43f114-bb07-48a6-e15b-c836582d7be6"
      },
      "source": [
        "list1=[11,33,50]\n",
        "for i in list1:\n",
        "  print(i,end=\"\")"
      ],
      "execution_count": null,
      "outputs": [
        {
          "output_type": "stream",
          "text": [
            "113350"
          ],
          "name": "stdout"
        }
      ]
    },
    {
      "cell_type": "markdown",
      "metadata": {
        "id": "exUmx30jkPSc",
        "colab_type": "text"
      },
      "source": [
        "8.\tUnits of Time\n",
        "\n",
        "Create a program that reads duration from the user as a number of days, hours, minutes, and seconds. Compute and display the total number of seconds represented by this duration. \n"
      ]
    },
    {
      "cell_type": "code",
      "metadata": {
        "id": "6W93YDiYkUEi",
        "colab_type": "code",
        "colab": {
          "base_uri": "https://localhost:8080/",
          "height": 101
        },
        "outputId": "31b8c677-d2a7-4da0-e150-93a5114cadf6"
      },
      "source": [
        "days=int(input(\"Enter number of days:\"))\n",
        "hours=int(input(\"Enter number of hours: \"))\n",
        "minutes=int(input(\"Enter number of minutes: \"))\n",
        "seconds=int(input(\"Enter number of seconds: \"))\n",
        "days=days*3600*24\n",
        "hours*=3600\n",
        "minutes*=60\n",
        "total_seconds=days+hours+minutes+seconds\n",
        "print(\"The total number of seconds are:\",total_seconds)"
      ],
      "execution_count": null,
      "outputs": [
        {
          "output_type": "stream",
          "text": [
            "Enter number of days:2\n",
            "Enter number of hours: 4\n",
            "Enter number of minutes: 8\n",
            "Enter number of seconds: 10\n",
            "The total number of seconds are: 187690\n"
          ],
          "name": "stdout"
        }
      ]
    },
    {
      "cell_type": "markdown",
      "metadata": {
        "id": "GEypGeGKm8NU",
        "colab_type": "text"
      },
      "source": [
        "9.\tSort 3 Integers\n",
        "Given three integers (given through user input), sort the numbers using |min| and  |max| functions.\n"
      ]
    },
    {
      "cell_type": "code",
      "metadata": {
        "id": "-sei56U8nsQH",
        "colab_type": "code",
        "colab": {
          "base_uri": "https://localhost:8080/",
          "height": 84
        },
        "outputId": "50911223-78da-4886-f071-29a6657bdb1d"
      },
      "source": [
        "a=int(input(\"Enter a value: \"))\n",
        "b=int(input(\"Enter b value: \"))\n",
        "c=int(input(\"Enter c value: \"))\n",
        "minimum=min(a,b,c)\n",
        "maximum=max(a,b,c)\n",
        "middle=(a+b+c)-(minimum+maximum)\n",
        "print(\"After sorting integers are:{},{},{}\".format(minimum,middle,maximum))"
      ],
      "execution_count": 4,
      "outputs": [
        {
          "output_type": "stream",
          "text": [
            "Enter a value: 10\n",
            "Enter b value: 15\n",
            "Enter c value: 2\n",
            "After sorting integers are:2,10,15\n"
          ],
          "name": "stdout"
        }
      ]
    },
    {
      "cell_type": "markdown",
      "metadata": {
        "id": "eO-vwZqzsR65",
        "colab_type": "text"
      },
      "source": [
        "10.\tWrite a program that reads a date from the user and computes its immediate successor. The date is the format YYYY-MM-DD. So, 2020-04-15 will have the successor 2020-04-16."
      ]
    },
    {
      "cell_type": "code",
      "metadata": {
        "id": "i3uPnz2isa3x",
        "colab_type": "code",
        "colab": {
          "base_uri": "https://localhost:8080/",
          "height": 84
        },
        "outputId": "911c2687-9edb-4654-fe07-c67d57f420c3"
      },
      "source": [
        "year=int(input(\"Enter the year : \"))\n",
        "month=int(input(\"Enter the month : \"))\n",
        "day=int(input(\"Enter the day: \"))\n",
        "if ((year% 4 == 0) and (year% 100!= 0)) or (year%400 == 0):\n",
        "    if month==2:\n",
        "        d1=29\n",
        "    elif month in (1,3,5,7,8,10,12):\n",
        "        d1=31\n",
        "    else :\n",
        "        d1=30\n",
        "else:\n",
        "    if month==2:\n",
        "        d1=28\n",
        "    elif month in (1,3,5,7,8,10,12):\n",
        "        d1=31\n",
        "    else :\n",
        "        d1=30\n",
        "if day==31 and month==12 :\n",
        "    day=1\n",
        "    month=1\n",
        "    year+=1   \n",
        "elif d1-day==0 :\n",
        "    month+=1\n",
        "    day=1\n",
        "else:\n",
        "    day+=1\n",
        "print(\"Next day is : \",year,\"/\",month,\"/\",day)"
      ],
      "execution_count": null,
      "outputs": [
        {
          "output_type": "stream",
          "text": [
            "Enter the year : 2020\n",
            "Enter the month : 12\n",
            "Enter the day: 31\n",
            "Next day is :  2021 / 1 / 1\n"
          ],
          "name": "stdout"
        }
      ]
    },
    {
      "cell_type": "markdown",
      "metadata": {
        "id": "1g-Y5ogWic66",
        "colab_type": "text"
      },
      "source": [
        "11.\tCompute product of a list of numbers [45 ,3,2,89,72,1,10,7]\n",
        "\n",
        "Output: 121111200\n"
      ]
    },
    {
      "cell_type": "code",
      "metadata": {
        "id": "7ps1oT9glfjr",
        "colab_type": "code",
        "colab": {
          "base_uri": "https://localhost:8080/",
          "height": 34
        },
        "outputId": "aaeb8c1b-ebae-484e-f6ac-e9ae05220cfc"
      },
      "source": [
        "list1=[45,3,2,89,72,1,10,7]\n",
        "product=1\n",
        "for i in range(0,len(list1)):\n",
        "  product=product*list1[i]\n",
        "print(product)"
      ],
      "execution_count": null,
      "outputs": [
        {
          "output_type": "stream",
          "text": [
            "121111200\n"
          ],
          "name": "stdout"
        }
      ]
    },
    {
      "cell_type": "markdown",
      "metadata": {
        "id": "ES8jOUaQmrDY",
        "colab_type": "text"
      },
      "source": [
        "12.\tCompute given Num_list =  [5, 6,8 ,34,89,1] to get desired output\n",
        "\n",
        "Output: Out_list=[11,14,42,123,90]\n"
      ]
    },
    {
      "cell_type": "code",
      "metadata": {
        "id": "_duP34vWm0AJ",
        "colab_type": "code",
        "colab": {
          "base_uri": "https://localhost:8080/",
          "height": 34
        },
        "outputId": "dc78c213-aa54-4bfd-9eff-012ca04bc8bf"
      },
      "source": [
        "Num_list=[5,6,8,34,89,1]\n",
        "Out_list=[]\n",
        "for i in range(0,len(Num_list)-1):\n",
        "  sum=0\n",
        "  sum=Num_list[i]+Num_list[i+1]\n",
        "  Out_list.append(sum)\n",
        "print(\"Out_list=\",Out_list)\n"
      ],
      "execution_count": null,
      "outputs": [
        {
          "output_type": "stream",
          "text": [
            "Out_list= [11, 14, 42, 123, 90]\n"
          ],
          "name": "stdout"
        }
      ]
    },
    {
      "cell_type": "markdown",
      "metadata": {
        "id": "raMB-GUPrBba",
        "colab_type": "text"
      },
      "source": [
        "13. Compute given Num_tuple =  (5, 6,8 ,3,9,1) to get desired output\n",
        "\n",
        "Output: Out_list = [5, 30, 240, 720, 6480, 6480]\n"
      ]
    },
    {
      "cell_type": "code",
      "metadata": {
        "id": "S5a93-iJrJL3",
        "colab_type": "code",
        "colab": {
          "base_uri": "https://localhost:8080/",
          "height": 34
        },
        "outputId": "85ef6376-8ce7-47e2-b416-1f24f00d9456"
      },
      "source": [
        "Num_tuple = (5, 6,8 ,3,9,1)\n",
        "Out_list=[]\n",
        "product=1\n",
        "for i in range(0,len(Num_tuple)):\n",
        "  product=product*Num_tuple[i]\n",
        "  Out_list.append(product)\n",
        "print(\"Out_list =\",Out_list)\n",
        "\n",
        "  "
      ],
      "execution_count": null,
      "outputs": [
        {
          "output_type": "stream",
          "text": [
            "Out_list = [5, 30, 240, 720, 6480, 6480]\n"
          ],
          "name": "stdout"
        }
      ]
    },
    {
      "cell_type": "markdown",
      "metadata": {
        "id": "4cuX36qGsGnH",
        "colab_type": "text"
      },
      "source": [
        "14.\t Write a Python code that takes a number and returns a list of its digits. \n",
        "\n",
        "So for 586392 it should return [5,8,6,3,9,2]"
      ]
    },
    {
      "cell_type": "code",
      "metadata": {
        "id": "CSIcYsstsP2A",
        "colab_type": "code",
        "colab": {
          "base_uri": "https://localhost:8080/",
          "height": 50
        },
        "outputId": "ab97f443-c5e6-463f-a256-71125660d09b"
      },
      "source": [
        " #method1\n",
        " integer=int(input(\"Enter an integer: \"))\n",
        " list1=[int(x) for x in str(integer)]\n",
        " print(str(list1))"
      ],
      "execution_count": null,
      "outputs": [
        {
          "output_type": "stream",
          "text": [
            "Enter a integer: 586392\n",
            "[5, 8, 6, 3, 9, 2]\n"
          ],
          "name": "stdout"
        }
      ]
    },
    {
      "cell_type": "code",
      "metadata": {
        "id": "5AIBTGyn0TyU",
        "colab_type": "code",
        "colab": {
          "base_uri": "https://localhost:8080/",
          "height": 50
        },
        "outputId": "4d096eb5-7640-4d36-e3da-e50eb5a12dee"
      },
      "source": [
        "#method2\n",
        "integer=int(input(\"Enter an integer: \"))\n",
        "x=str(integer)\n",
        "list1=list(x)\n",
        "for i in range(0,len(list1)):\n",
        "  list1[i]=int(list1[i])\n",
        "print(list1)"
      ],
      "execution_count": 14,
      "outputs": [
        {
          "output_type": "stream",
          "text": [
            "Enter an integer: 987654\n",
            "[9, 8, 7, 6, 5, 4]\n"
          ],
          "name": "stdout"
        }
      ]
    },
    {
      "cell_type": "markdown",
      "metadata": {
        "id": "5c9C8itv12Ym",
        "colab_type": "text"
      },
      "source": [
        "15.\tWrite a program that finds the longest palindromic substring of a given string"
      ]
    },
    {
      "cell_type": "code",
      "metadata": {
        "id": "OxGQ18in3fQY",
        "colab_type": "code",
        "colab": {
          "base_uri": "https://localhost:8080/",
          "height": 50
        },
        "outputId": "3b34479d-6513-49f5-eb98-a06826d571bc"
      },
      "source": [
        "def longestpalindrome(s):\n",
        "    d=[[False for i in range(len(s))] for i in range(len(s))]\n",
        "    for i in range(len(s)):\n",
        "        d[i][i]=True\n",
        "    maxlen=1\n",
        "    start=0\n",
        "    for l in range(2,len(s)+1):\n",
        "        for i in range(len(s)-l+1):\n",
        "            end=i+l\n",
        "            if l==2:\n",
        "                if s[i]==s[end-1]:\n",
        "                    d[i][end-1]=True\n",
        "                    maxlen=l\n",
        "                    start=i\n",
        "            else:\n",
        "                if s[i]==s[end-1] and d[i+1][end-2]:\n",
        "                    d[i][end-1]=True\n",
        "                    maxlen=l\n",
        "                    start=i\n",
        "    return s[start:start+maxlen]\n",
        "s=input(\"Enter a string : \")\n",
        "print(longestpalindrome(s))"
      ],
      "execution_count": null,
      "outputs": [
        {
          "output_type": "stream",
          "text": [
            "Enter a string : abbaccaaccdd\n",
            "ccaacc\n"
          ],
          "name": "stdout"
        }
      ]
    },
    {
      "cell_type": "markdown",
      "metadata": {
        "id": "PqkHA1FktM6w",
        "colab_type": "text"
      },
      "source": [
        "16.\t Substring Check (Bug Funny)\n",
        "Given two binary strings, A (of length 10) and B (of length 5), output 1 if B is a substring of A and 0 otherwise.\n",
        "\n",
        "First two lines of input:\n",
        "\n",
        "1010110010          10110\n",
        "\n",
        "1110111011           10011\n",
        "\n",
        "First two lines of output:\n",
        "\n",
        "1\n",
        "\n",
        "0\n"
      ]
    },
    {
      "cell_type": "code",
      "metadata": {
        "id": "d5Oo71aHtiPl",
        "colab_type": "code",
        "colab": {
          "base_uri": "https://localhost:8080/",
          "height": 134
        },
        "outputId": "b44ae466-54df-4cf4-d97d-b41b3ba63e5c"
      },
      "source": [
        "test=int(input(\"Enter number of test cases: \"))\n",
        "while(test>0):\n",
        "  string=input(\"Enter a string(of length 10): \")\n",
        "  sub_string=input(\"Enter a sub string(of length 5): \") \n",
        "  if (string.find(sub_string) == -1): \n",
        "    print(\"0\") \n",
        "  else: \n",
        "    print(\"1\")\n",
        "  test-=1\n"
      ],
      "execution_count": null,
      "outputs": [
        {
          "output_type": "stream",
          "text": [
            "Enter number of test cases: 2\n",
            "Enter a string(of length 10): 1010110010 \n",
            "Enter a sub string(of length 5): 10110\n",
            "1\n",
            "Enter a string(of length 10): 1110111011\n",
            "Enter a sub string(of length 5): 10011\n",
            "0\n"
          ],
          "name": "stdout"
        }
      ]
    },
    {
      "cell_type": "markdown",
      "metadata": {
        "id": "THvu6duryQVu",
        "colab_type": "text"
      },
      "source": [
        "17. POUR1 - Pouring water\n",
        "Given two vessels, one of which can accommodate a litres of water and the other - b litres of water, determine the number of steps required to obtain exactly c litres of water in one of the vessels.\n",
        "At the beginning both vessels are empty. The following operations are counted as 'steps':   \n",
        "•\temptying a vessel,  \n",
        "•\tfilling a vessel,  \n",
        "•\tpouring water from one vessel to the other, without spilling, until one of the vessels is either full or empty.  \n",
        "Input  \n",
        "An integer t, 1<=t<=100, denoting the number of testcases , followed by t sets of input data, each consisting of three positive integers a, b, c, not larger than 40000, given in separate lines.  \n",
        "Output  \n",
        "For each set of input data, output the minimum number of steps required to obtain c litres, or -1 if this is impossible.\n",
        "\n",
        "Example\n",
        "Sample input:\n",
        "2\n",
        "5\n",
        "2\n",
        "3\n",
        "2\n",
        "3\n",
        "4\n",
        " \n",
        "Sample output:\n",
        "2\n",
        "-1\n"
      ]
    },
    {
      "cell_type": "code",
      "metadata": {
        "id": "mMS_spe60LiT",
        "colab_type": "code",
        "colab": {
          "base_uri": "https://localhost:8080/",
          "height": 168
        },
        "outputId": "95cff67a-1af3-4762-fe95-156b1089b6aa"
      },
      "source": [
        "def gcd(a,b):\n",
        "    if b==0: \n",
        "        return a \n",
        "    return gcd(b,a%b) \n",
        "def countsteps(a,b,c): \n",
        "    ves1=b\n",
        "    ves2=0\n",
        "    count=1\n",
        "    while ((ves1 is not c) and (ves2 is not c)): \n",
        "        temp=min(ves1,a-ves2) \n",
        "        ves2=ves2+temp \n",
        "        ves1=ves1-temp \n",
        "        count=count+1\n",
        "        if ((ves2==c)or(ves1==c)): \n",
        "            break\n",
        "        if ves1==0: \n",
        "            ves1=b \n",
        "            count=count+1\n",
        "        if ves2==a: \n",
        "            ves2=0\n",
        "            count=count+1\n",
        "    return count \n",
        "def ispossible(a,b,c): \n",
        "    if a>b: \n",
        "        temp=a \n",
        "        a=b \n",
        "        b=temp \n",
        "    if c>b: \n",
        "        return -1\n",
        "    if (c%(gcd(b,a)) is not 0): \n",
        "        return -1\n",
        "    return(min(countsteps(b,a,c),countsteps(a,b,c)))\n",
        "t=int(input(\"Enter no of testcases : \"))\n",
        "for i in range(t):\n",
        "  a=int(input(\"Enter capacity of vessel a : \"))\n",
        "  b=int(input(\"Enter capacity of vessel b : \"))\n",
        "  c=int(input(\"Enter capacity to be obtained :\"))\n",
        "  print(\"Minimum number of steps required is : \",ispossible(a,b,c))"
      ],
      "execution_count": 10,
      "outputs": [
        {
          "output_type": "stream",
          "text": [
            "Enter no of testcases : 2\n",
            "Enter capacity of vessel a : 5\n",
            "Enter capacity of vessel b : 2\n",
            "Enter capacity to be obtained :3\n",
            "Minimum number of steps required is :  2\n",
            "Enter capacity of vessel a : 2\n",
            "Enter capacity of vessel b : 3\n",
            "Enter capacity to be obtained :4\n",
            "Minimum number of steps required is :  -1\n"
          ],
          "name": "stdout"
        }
      ]
    }
  ]
}